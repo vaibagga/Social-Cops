{
 "cells": [
  {
   "cell_type": "markdown",
   "metadata": {},
   "source": [
    "<h1> Regression </h1>\n",
    "<p>In this module we will try to use linear regression to predict the mortality rate on given day using pollution parameters. <br>\n",
    "<ul>\n",
    "<li> Dependent Variable: Mortality Rate</li>\n",
    "<li> Independent Variables: NO<sub>2</sub> level, Ozone level, PM2.5 level, PM10 level, mean temperature</li>\n",
    "</ul>\n",
    "</p>"
   ]
  },
  {
   "cell_type": "markdown",
   "metadata": {},
   "source": [
    "<h2> Importing dependencies </h2>\n",
    "<p>We import following Python libraries:</p>\n",
    "<ol>\n",
    "<li> Pandas: For reading and manipulating dataframes</li>\n",
    "<li> Numpy: For numeric computation</li>\n",
    "<li> Scikit-Learn: For training and testing linear regression model</li>\n",
    "<li> Matplotlib: Plotting and visualisation</li>\n",
    "<li> OS: Changing, getting paths</li>\n",
    "\n",
    "</ol>"
   ]
  },
  {
   "cell_type": "code",
   "execution_count": 11,
   "metadata": {
    "collapsed": true
   },
   "outputs": [],
   "source": [
    "import pandas as pd\n",
    "import numpy as np\n",
    "import os\n",
    "from sklearn.linear_model import LinearRegression\n",
    "from sklearn.metrics import mean_squared_error\n",
    "from sklearn.model_selection import train_test_split\n",
    "from matplotlib import pyplot as plt\n",
    "%matplotlib inline"
   ]
  },
  {
   "cell_type": "code",
   "execution_count": 2,
   "metadata": {
    "collapsed": true
   },
   "outputs": [],
   "source": [
    "## setting path to data path\n",
    "os.chdir(os.getcwd() + '\\\\Data')"
   ]
  },
  {
   "cell_type": "markdown",
   "metadata": {},
   "source": [
    "<h2> Data Cleaning </h2>\n",
    "<p> We clean the data in order to get only relevant features, (NO <sub>2</sub> levels, PM10 levels, PM2.5 levels, and mean temperature). The values that are not available are filled with the mean of the variable, in order to make it fit for computation </p>\n",
    "<p> From the dataframe, the dependent (y) and independent (X) variables are obtained </p>\n"
   ]
  },
  {
   "cell_type": "code",
   "execution_count": 3,
   "metadata": {
    "collapsed": true
   },
   "outputs": [],
   "source": [
    "## importing data from csv\n",
    "train = pd.read_csv('train.csv')\n",
    "\n",
    "## removing Id, date, and region columns\n",
    "train.drop(['Id', 'date', 'region'], axis = 1, inplace = True)\n",
    "\n",
    "## removing NAs\n",
    "for _ in train.columns.values:\n",
    "    train[_].fillna(train[_].mean(), inplace = True)\n",
    "    \n",
    "## independent variables or features    \n",
    "X = train.drop(['mortality_rate'], axis = 1)\n",
    "\n",
    "## dependent variable\n",
    "y = train.mortality_rate"
   ]
  },
  {
   "cell_type": "markdown",
   "metadata": {},
   "source": [
    "<h2> Splitting data </h2>\n",
    "<p> Before applying linear regression, the data is split into tests: train set (70 %) and test set (30 %) for the purpose of evaluation of model. Data is trained on the train set and its accuracy is measured as mean squared error on test set."
   ]
  },
  {
   "cell_type": "code",
   "execution_count": 5,
   "metadata": {
    "collapsed": true
   },
   "outputs": [],
   "source": [
    "## taking a split of 70 : 30\n",
    "X_train, X_test, y_train, y_test = train_test_split(X, y, test_size=0.3)"
   ]
  },
  {
   "cell_type": "markdown",
   "metadata": {},
   "source": [
    "<h2> Applying Linear Regression </h2>"
   ]
  },
  {
   "cell_type": "code",
   "execution_count": 8,
   "metadata": {},
   "outputs": [
    {
     "data": {
      "text/plain": [
       "LinearRegression(copy_X=True, fit_intercept=True, n_jobs=-1, normalize=False)"
      ]
     },
     "execution_count": 8,
     "metadata": {},
     "output_type": "execute_result"
    }
   ],
   "source": [
    "## Linear Regression from scikit-learn library\n",
    "clf = LinearRegression(n_jobs = -1)\n",
    "\n",
    "## fitting Linear regression curve\n",
    "clf.fit(X_train, y_train)"
   ]
  },
  {
   "cell_type": "markdown",
   "metadata": {},
   "source": [
    "<h2> Testing the accuracy of model </h2>\n",
    "Mean squared error is used to test the accuracy of the model. It is defined as:\n",
    "<img src = \"https://cdn-images-1.medium.com/max/1600/1*20m_U-H6EIcxlN2k07Z7oQ.png\", alt = \"No image\">"
   ]
  },
  {
   "cell_type": "code",
   "execution_count": 10,
   "metadata": {},
   "outputs": [
    {
     "name": "stdout",
     "output_type": "stream",
     "text": [
      "Mean squared error = 0.06490234804869241\n"
     ]
    }
   ],
   "source": [
    "print('Mean squared error =', mean_squared_error(clf.predict(X_test), y_test))"
   ]
  },
  {
   "cell_type": "code",
   "execution_count": 24,
   "metadata": {},
   "outputs": [
    {
     "data": {
      "text/plain": [
       "Text(0.5,1,'Predicted vs Actual values')"
      ]
     },
     "execution_count": 24,
     "metadata": {},
     "output_type": "execute_result"
    },
    {
     "data": {
      "image/png": "[encoded data removed]",
      "text/plain": [
       "<matplotlib.figure.Figure at 0x14563d8f828>"
      ]
     },
     "metadata": {},
     "output_type": "display_data"
    }
   ],
   "source": [
    "## predicted vs actual\n",
    "plt.scatter(y_test, clf.predict(X_test), marker = '.', color = 'r')\n",
    "x = np.linspace(0.5, 2)\n",
    "y = x\n",
    "plt.plot(x, y)\n",
    "plt.xlabel('Actual')\n",
    "plt.ylabel('Predicted')\n",
    "plt.title('Predicted vs Actual values')"
   ]
  },
  {
   "cell_type": "code",
   "execution_count": 25,
   "metadata": {},
   "outputs": [
    {
     "data": {
      "text/plain": [
       "(array([3.671e+03, 8.750e+02, 3.900e+02, 2.010e+02, 1.370e+02, 8.700e+01,\n",
       "        4.500e+01, 2.500e+01, 2.400e+01, 2.100e+01, 1.200e+01, 1.000e+01,\n",
       "        9.000e+00, 3.000e+00, 4.000e+00, 2.000e+00, 0.000e+00, 3.000e+00,\n",
       "        1.000e+00, 1.000e+00]),\n",
       " array([3.42008642e-10, 5.49423933e-02, 1.09884786e-01, 1.64827179e-01,\n",
       "        2.19769572e-01, 2.74711965e-01, 3.29654358e-01, 3.84596751e-01,\n",
       "        4.39539144e-01, 4.94481537e-01, 5.49423930e-01, 6.04366323e-01,\n",
       "        6.59308716e-01, 7.14251109e-01, 7.69193502e-01, 8.24135895e-01,\n",
       "        8.79078288e-01, 9.34020681e-01, 9.88963074e-01, 1.04390547e+00,\n",
       "        1.09884786e+00]),\n",
       " <a list of 20 Patch objects>)"
      ]
     },
     "execution_count": 25,
     "metadata": {},
     "output_type": "execute_result"
    },
    {
     "data": {
      "image/png": "[encoded data removed]",
      "text/plain": [
       "<matplotlib.figure.Figure at 0x14562cba5c0>"
      ]
     },
     "metadata": {},
     "output_type": "display_data"
    }
   ],
   "source": [
    "## distribution of squared error\n",
    "plt.hist((clf.predict(X_test)-y_test)**2, bins = 20)"
   ]
  },
  {
   "cell_type": "markdown",
   "metadata": {},
   "source": [
    "<h2> Percentage Error </h2>\n",
    "<p> Percentage Error is defined as:\n",
    "<img src = \"http://astro.physics.uiowa.edu/ITU/_Media/percenterror.gif\">"
   ]
  },
  {
   "cell_type": "code",
   "execution_count": 28,
   "metadata": {
    "collapsed": true
   },
   "outputs": [],
   "source": [
    "'''\n",
    "Input : y_true: Actual result\n",
    "        y_pred: Predicted Result\n",
    "Output:  Percentage error given by above formula\n",
    "'''\n",
    "\n",
    "def percentage_error(y_true, y_pred): \n",
    "    y_true, y_pred = np.array(y_true), np.array(y_pred)\n",
    "    return np.mean(np.abs((y_true - y_pred) / y_true)) * 100"
   ]
  },
  {
   "cell_type": "code",
   "execution_count": 29,
   "metadata": {},
   "outputs": [
    {
     "name": "stdout",
     "output_type": "stream",
     "text": [
      "Percentage error = 16.21706111632507\n"
     ]
    }
   ],
   "source": [
    "print('Percentage error =', percentage_error(y_test, clf.predict(X_test)))"
   ]
  },
  {
   "cell_type": "markdown",
   "metadata": {},
   "source": [
    "<h2> Conclusion </h2>\n",
    "<p> There is a correlation between environmental factors and mortality rate. However, there is a large percentage error in predicting actual mortality rate. This is because it is affected by other factors as well. The pollution in this data does not drastically affect mortality rate as it is not severe. This is not true for Indian cities which have pollution levels way above the \"safe\" mark. Similar data can be collected for Indian cities to analyse the effect. As of now, no public dataset is available for Indian studies </p>"
   ]
  }
 ],
 "metadata": {
  "kernelspec": {
   "display_name": "Python 3",
   "language": "python",
   "name": "python3"
  },
  "language_info": {
   "codemirror_mode": {
    "name": "ipython",
    "version": 3
   },
   "file_extension": ".py",
   "mimetype": "text/x-python",
   "name": "python",
   "nbconvert_exporter": "python",
   "pygments_lexer": "ipython3",
   "version": "3.6.3"
  }
 },
 "nbformat": 4,
 "nbformat_minor": 2
}
